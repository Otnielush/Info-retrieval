{
 "cells": [
  {
   "cell_type": "code",
   "execution_count": 1,
   "metadata": {},
   "outputs": [],
   "source": [
    "import youtube_dl"
   ]
  },
  {
   "cell_type": "markdown",
   "metadata": {},
   "source": [
    "youtube-dl --all-subs —-skip-download https://www.youtube.com/watch?v=pf5TahxXoNM"
   ]
  },
  {
   "cell_type": "code",
   "execution_count": 6,
   "metadata": {},
   "outputs": [],
   "source": [
    "ydl_opts = {\n",
    "    'writesubtitles': True, #Adds a subtitles file if it exists\n",
    "'writeautomaticsub': True, #Adds auto-generated subtitles file\n",
    "'subtitle': '--write-sub --sub-lang en', #writes subtitles file in english\n",
    "'subtitlesformat':'vtt', #writes the subtitles file in \"srt\" or \"ass/srt/best\"\n",
    "'convert-subs': 'vtt',\n",
    "'skip_download': True, #skips downloading the video file\n",
    "}\n",
    "videos = ['https://www.youtube.com/watch?v=T647CGsuOVU']"
   ]
  },
  {
   "cell_type": "code",
   "execution_count": 3,
   "metadata": {},
   "outputs": [
    {
     "name": "stdout",
     "output_type": "stream",
     "text": [
      "[youtube] T647CGsuOVU: Downloading webpage\n",
      "[info] Writing video subtitles to: Imaginary Numbers Are Real [Part 1 - Introduction]-T647CGsuOVU.en.vtt\n"
     ]
    }
   ],
   "source": [
    "with youtube_dl.YoutubeDL(ydl_opts) as ydl:\n",
    "    ydl.download(video_ids)"
   ]
  },
  {
   "cell_type": "code",
   "execution_count": 5,
   "metadata": {},
   "outputs": [],
   "source": [
    "from youtube_transcript_api import YouTubeTranscriptApi"
   ]
  },
  {
   "cell_type": "code",
   "execution_count": 40,
   "metadata": {},
   "outputs": [],
   "source": [
    "video_ids = ['T647CGsuOVU']"
   ]
  },
  {
   "cell_type": "code",
   "execution_count": 42,
   "metadata": {},
   "outputs": [],
   "source": [
    "text = YouTubeTranscriptApi.get_transcripts(video_ids, languages=['en'])"
   ]
  },
  {
   "cell_type": "code",
   "execution_count": 30,
   "metadata": {},
   "outputs": [
    {
     "data": {
      "text/plain": [
       "{'text': 'Imaginary Numbers Are Real [Part 1: Introduction]',\n",
       " 'start': 0.0,\n",
       " 'duration': 0.5}"
      ]
     },
     "execution_count": 30,
     "metadata": {},
     "output_type": "execute_result"
    }
   ],
   "source": [
    "text[0]['T647CGsuOVU'][0]"
   ]
  },
  {
   "cell_type": "code",
   "execution_count": 31,
   "metadata": {},
   "outputs": [],
   "source": [
    "from youtube_transcript_api.formatters import JSONFormatter\n",
    "formatter = JSONFormatter()"
   ]
  },
  {
   "cell_type": "code",
   "execution_count": 32,
   "metadata": {},
   "outputs": [],
   "source": [
    "# .format_transcript(transcript) turns the transcript into a JSON string.\n",
    "json_formatted = formatter.format_transcript(text)"
   ]
  },
  {
   "cell_type": "code",
   "execution_count": 35,
   "metadata": {
    "scrolled": true
   },
   "outputs": [
    {
     "data": {
      "text/plain": [
       "'[{\"T647CGsuOVU\": [{\"text\": \"Imaginary Numbers Are Real [Part 1: Introduction]\", \"start\": 0.0, \"durat'"
      ]
     },
     "execution_count": 35,
     "metadata": {},
     "output_type": "execute_result"
    }
   ],
   "source": [
    "json_formatted[:100]"
   ]
  },
  {
   "cell_type": "raw",
   "metadata": {},
   "source": [
    "# Now we can write it out to a file.\n",
    "with open('your_filename.json', 'w', encoding='utf-8') as json_file:\n",
    "    json_file.write(json_formatted)"
   ]
  },
  {
   "cell_type": "code",
   "execution_count": 45,
   "metadata": {},
   "outputs": [],
   "source": [
    "import youtubesearchpython as ys"
   ]
  },
  {
   "cell_type": "code",
   "execution_count": 68,
   "metadata": {},
   "outputs": [],
   "source": [
    "def search_yt(sentence, num_of_results=50):\n",
    "    videosSearch = ys.VideosSearch(sentence, region='IS')\n",
    "    ids = []\n",
    "    subtitles = []\n",
    "\n",
    "    for i in range(3):\n",
    "        page = videosSearch.result()['result']\n",
    "        for p in page:\n",
    "            # downloading subtitles if exists\n",
    "            try:\n",
    "                subtitles.append(YouTubeTranscriptApi.get_transcripts([p['id']], languages=['en'])[0][p['id']])\n",
    "                ids.append(p['id'])\n",
    "            except:\n",
    "                continue\n",
    "            if len(ids) >= num_of_results:\n",
    "                return ids, subtitles\n",
    "                \n",
    "        videosSearch.next()\n",
    "\n",
    "    return ids, subtitles"
   ]
  },
  {
   "cell_type": "code",
   "execution_count": 69,
   "metadata": {},
   "outputs": [],
   "source": [
    "ids, subs = search_yt('haredi child', 2)"
   ]
  },
  {
   "cell_type": "code",
   "execution_count": 61,
   "metadata": {},
   "outputs": [
    {
     "data": {
      "text/plain": [
       "['qYA_oSBFjuY', 'gB2T7Tf6Pps']"
      ]
     },
     "execution_count": 61,
     "metadata": {},
     "output_type": "execute_result"
    }
   ],
   "source": [
    "ids"
   ]
  },
  {
   "cell_type": "code",
   "execution_count": 75,
   "metadata": {},
   "outputs": [
    {
     "data": {
      "text/plain": [
       "{'text': 'in my', 'start': 7.37, 'duration': 3.54}"
      ]
     },
     "execution_count": 75,
     "metadata": {},
     "output_type": "execute_result"
    }
   ],
   "source": [
    "subs[1][0]"
   ]
  },
  {
   "cell_type": "code",
   "execution_count": 76,
   "metadata": {},
   "outputs": [
    {
     "data": {
      "text/plain": [
       "[{'text': 'in my', 'start': 7.37, 'duration': 3.54},\n",
       " {'text': 'we are', 'start': 16.49, 'duration': 3.14},\n",
       " {'text': 'yeah', 'start': 50.44, 'duration': 3.0},\n",
       " {'text': 'Oh', 'start': 69.83, 'duration': 2.03},\n",
       " {'text': 'Oh', 'start': 73.67, 'duration': 2.03},\n",
       " {'text': 'so', 'start': 113.88, 'duration': 4.169},\n",
       " {'text': 'Oh', 'start': 116.02, 'duration': 2.029},\n",
       " {'text': 'Oh', 'start': 121.29, 'duration': 2.03},\n",
       " {'text': 'Oh', 'start': 162.72, 'duration': 2.0},\n",
       " {'text': 'Oh', 'start': 168.13, 'duration': 2.03},\n",
       " {'text': 'me', 'start': 183.92, 'duration': 3.0},\n",
       " {'text': 'boys', 'start': 191.25, 'duration': 2.66},\n",
       " {'text': 'oh sure', 'start': 200.27, 'duration': 45.71},\n",
       " {'text': 'Hey', 'start': 248.83, 'duration': 3.0},\n",
       " {'text': 'Oh', 'start': 252.36, 'duration': 2.03},\n",
       " {'text': 'ah', 'start': 269.529, 'duration': 2.03},\n",
       " {'text': 'Oh', 'start': 318.849, 'duration': 2.0},\n",
       " {'text': 'ah', 'start': 326.81, 'duration': 4.669},\n",
       " {'text': \"I'm gonna get\", 'start': 328.74, 'duration': 7.849},\n",
       " {'text': 'she come alone inside', 'start': 331.479, 'duration': 8.28},\n",
       " {'text': 'oh', 'start': 336.589, 'duration': 3.17},\n",
       " {'text': 'yeah', 'start': 342.57, 'duration': 2.45},\n",
       " {'text': 'your tithing', 'start': 346.96, 'duration': 3.42},\n",
       " {'text': 'my', 'start': 353.199, 'duration': 3.0},\n",
       " {'text': \"either let's swing\", 'start': 359.2, 'duration': 6.91},\n",
       " {'text': 'is I', 'start': 363.51, 'duration': 2.6},\n",
       " {'text': 'she', 'start': 368.39, 'duration': 3.0},\n",
       " {'text': 'right you see', 'start': 375.65, 'duration': 3.62}]"
      ]
     },
     "execution_count": 76,
     "metadata": {},
     "output_type": "execute_result"
    }
   ],
   "source": [
    "subs[1]"
   ]
  }
 ],
 "metadata": {
  "kernelspec": {
   "display_name": "Python 3",
   "language": "python",
   "name": "python3"
  },
  "language_info": {
   "codemirror_mode": {
    "name": "ipython",
    "version": 3
   },
   "file_extension": ".py",
   "mimetype": "text/x-python",
   "name": "python",
   "nbconvert_exporter": "python",
   "pygments_lexer": "ipython3",
   "version": "3.8.5"
  }
 },
 "nbformat": 4,
 "nbformat_minor": 4
}
