{
  "nbformat": 4,
  "nbformat_minor": 0,
  "metadata": {
    "colab": {
      "name": "concat_clips_basic.ipynb",
      "provenance": []
    },
    "kernelspec": {
      "name": "python3",
      "display_name": "Python 3"
    },
    "language_info": {
      "name": "python"
    }
  },
  "cells": [
    {
      "cell_type": "code",
      "metadata": {
        "id": "QyFsQWf8OoXk"
      },
      "source": [
        "from moviepy.editor import *\n",
        "\n",
        "# loading video\n",
        "clip = VideoFileClip(\"main_clip.mp4\")\n",
        "\n",
        "# clip first subclip\n",
        "clip1 = clip.subclip(0, 5)\n",
        "\n",
        "# clip second subclip\n",
        "clip2 = clip.subclip(20, 25)\n",
        "\n",
        "# concatenating both clips\n",
        "final = concatenate_videoclips([clip1, clip2])\n",
        "\n",
        "# display concatenated clip\n",
        "final.ipython_display(width = 480)"
      ],
      "execution_count": null,
      "outputs": []
    }
  ]
}