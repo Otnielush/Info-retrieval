{
 "cells": [
  {
   "cell_type": "markdown",
   "metadata": {},
   "source": [
    "# Students team: Otniel Elkayam, Shaul Chamola\n",
    "_Department of Data Mining, Jerusalem College of Technology_  \n",
    "__Targil 2__"
   ]
  },
  {
   "cell_type": "code",
   "execution_count": 4,
   "metadata": {},
   "outputs": [],
   "source": [
    "import sys\n",
    "from search_yt import YT_searcher, download_mp4\n",
    "from title_filter import get_best_parts, build_plots\n",
    "from title_builder import build_subtitles\n",
    "from concatenate_clips import make_clip"
   ]
  },
  {
   "cell_type": "markdown",
   "metadata": {},
   "source": [
    "# step 1"
   ]
  },
  {
   "cell_type": "code",
   "execution_count": 7,
   "metadata": {},
   "outputs": [
    {
     "name": "stdout",
     "output_type": "stream",
     "text": [
      "Searching: how to smile\n",
      "Videos found: 2\n"
     ]
    }
   ],
   "source": [
    "search_sentence = 'how to smile'\n",
    "print('Searching:', search_sentence)\n",
    "\n",
    "YT = YT_searcher()\n",
    "MAX_VIDEOS_TO_PARSE = 2\n",
    "\n",
    "# This library uses native YouTube search.\n",
    "# Instead of searching, you can download the text of the video by ID:\n",
    "# df_subtitles = YT.download_subtitles(id)\n",
    "ids, df_subtitles = YT.search(search_sentence, MAX_VIDEOS_TO_PARSE)\n",
    "\n",
    "print('Videos found:', len(ids))"
   ]
  },
  {
   "cell_type": "markdown",
   "metadata": {},
   "source": [
    "# step 2"
   ]
  },
  {
   "cell_type": "raw",
   "metadata": {},
   "source": [
    "# output tables with frequencies of words and most frequently words\n",
    "data = build_subtitles([list(df['text']) for df in df_subtitles], window=100, max_words=7, parse_text_parts=True)"
   ]
  },
  {
   "cell_type": "markdown",
   "metadata": {},
   "source": [
    "## function \"build_subtitles\" step by step"
   ]
  },
  {
   "cell_type": "code",
   "execution_count": 14,
   "metadata": {},
   "outputs": [
    {
     "name": "stdout",
     "output_type": "stream",
     "text": [
      "Ngrams base loaded. Words in base: 3815\n"
     ]
    }
   ],
   "source": [
    "import pandas as pd\n",
    "import re\n",
    "import numpy as np\n",
    "from spacy.lang.en import English\n",
    "nlp = English()\n",
    "\n",
    "from ngrams import Word_Frequency\n",
    "ngrams = Word_Frequency()"
   ]
  },
  {
   "cell_type": "code",
   "execution_count": 21,
   "metadata": {},
   "outputs": [],
   "source": [
    "# input params\n",
    "text = [list(df['text']) for df in df_subtitles]\n",
    "window = 100 \n",
    "max_words = 7\n",
    "parse_text_parts = True\n",
    "\n",
    "if type(text) == str:\n",
    "    text = [text]"
   ]
  },
  {
   "cell_type": "markdown",
   "metadata": {},
   "source": [
    "### Cleaning data"
   ]
  },
  {
   "cell_type": "code",
   "execution_count": 12,
   "metadata": {},
   "outputs": [],
   "source": [
    "def clear_text(text):\n",
    "    text_part = text.replace('\\n', ' ').replace('\\t', '').replace('[', ' ').replace(']', ' ')\n",
    "    text_part = re.sub('[,\\.!?><\"]', '', text_part)\n",
    "    text_part = re.sub('[_-]', ' ', text_part)\n",
    "    text_part = re.sub('(\\s){2,8}', ' ', text_part)\n",
    "    text_part = text_part.rstrip().lstrip()\n",
    "    # Convert the titles to lowercase\n",
    "    return text_part.lower()"
   ]
  },
  {
   "cell_type": "markdown",
   "metadata": {},
   "source": [
    "### Part of input text:"
   ]
  },
  {
   "cell_type": "code",
   "execution_count": 24,
   "metadata": {},
   "outputs": [
    {
     "data": {
      "text/plain": [
       "[\"Don't you hate when you're going through\\npictures of yourself and you're just\",\n",
       " 'like \"what, that\\'s so weird smile\"\\nEspecially old pictures, well that\\'s',\n",
       " \"probably because it is weird. But hey,\\nthat's not your faul,t it's not your\",\n",
       " \"problem. Believe it or not that's a common problem, thats\"]"
      ]
     },
     "execution_count": 24,
     "metadata": {},
     "output_type": "execute_result"
    }
   ],
   "source": [
    "text[0][:4]"
   ]
  },
  {
   "cell_type": "code",
   "execution_count": 25,
   "metadata": {},
   "outputs": [
    {
     "name": "stdout",
     "output_type": "stream",
     "text": [
      "\r",
      "Removing punctuation. part 1 of 6          "
     ]
    }
   ],
   "source": [
    "# Remove punctuation\n",
    "# Remove punctuation and punctuation marks. The tokenizer will give a better result\n",
    "print('\\rRemoving punctuation. part 1 of 6', end=' '*10)\n",
    "text_parts = []\n",
    "text_parts_num = []\n",
    "for t in range(len(text)):\n",
    "    if type(text[t]) == list:\n",
    "        if not parse_text_parts:\n",
    "            text[t] = ' '.join(text[t])\n",
    "            text[t] = clear_text(text[t])\n",
    "        else:       # if not parse_text_parts\n",
    "            text_part_num = [0]\n",
    "            text_part = []\n",
    "            accumulate = 0\n",
    "            text_doc = ''\n",
    "            for part in range(len(text[t])):\n",
    "                text[t][part] = clear_text(text[t][part])\n",
    "                tt = text[t][part].split(' ')\n",
    "                tt_set = set(tt)\n",
    "                while '' in tt_set:\n",
    "                    tt.remove('')\n",
    "                    tt_set = set(tt)\n",
    "                lenght_part = len(tt)\n",
    "                accumulate += lenght_part\n",
    "                text_part_num.append(accumulate)\n",
    "                text_part.extend([part for _ in range(lenght_part)])\n",
    "                text_doc = text_doc + ' ' + ' '.join(tt)\n",
    "\n",
    "            text[t] = text_doc[1:]\n",
    "    if parse_text_parts:\n",
    "        text_parts.append(text_part)\n",
    "        text_parts_num.append(text_part_num[:-1])\n",
    "        del(text_part, text_part_num, text_doc)"
   ]
  },
  {
   "cell_type": "markdown",
   "metadata": {},
   "source": [
    "### Text after cleaning:"
   ]
  },
  {
   "cell_type": "code",
   "execution_count": 26,
   "metadata": {},
   "outputs": [
    {
     "data": {
      "text/plain": [
       "\"don't you hate when you're going through pictures of yourself and you're just like what that's so weird smile especially old pictures well that's probably because it is weird but hey that's not your fault it's not your problem believe it or not that's a common problem thats a lot of guys face i faced it myself so in today's video i'm gonna show you how to avoid that awkward ugly weird smile and ma\""
      ]
     },
     "execution_count": 26,
     "metadata": {},
     "output_type": "execute_result"
    }
   ],
   "source": [
    "text[0][:400]"
   ]
  },
  {
   "cell_type": "markdown",
   "metadata": {},
   "source": [
    "### Building dictionary of words"
   ]
  },
  {
   "cell_type": "code",
   "execution_count": 27,
   "metadata": {},
   "outputs": [
    {
     "name": "stdout",
     "output_type": "stream",
     "text": [
      "\r",
      "Building dictionary of words. part 2 of 6          "
     ]
    }
   ],
   "source": [
    "# dictionary\n",
    "# Create a bag of words and count them\n",
    "print('\\rBuilding dictionary of words. part 2 of 6', end=' '*10)\n",
    "docs = []\n",
    "for doc in text:\n",
    "    tt = doc.split(' ')\n",
    "    tt_set = set(tt)\n",
    "    while '' in tt_set:\n",
    "        tt.remove('')\n",
    "        tt_set = set(tt)\n",
    "    docs.append(tt)\n",
    "del(tt, text)\n",
    "\n",
    "dict_words = dict()\n",
    "doc_words = []\n",
    "for doc in docs:\n",
    "    num_words = 0\n",
    "    for word in doc:\n",
    "        # if not len(word) > 0:\n",
    "        #     continue\n",
    "        if word in dict_words:\n",
    "            dict_words[word] += 1\n",
    "        else:\n",
    "            dict_words[word] = 1\n",
    "        num_words += 1\n",
    "    doc_words.append(num_words)"
   ]
  },
  {
   "cell_type": "markdown",
   "metadata": {},
   "source": [
    "### Dictionary"
   ]
  },
  {
   "cell_type": "code",
   "execution_count": 47,
   "metadata": {},
   "outputs": [
    {
     "name": "stdout",
     "output_type": "stream",
     "text": [
      "don't:10\n",
      "you:107\n",
      "hate:1\n",
      "when:26\n",
      "you're:32\n",
      "going:10\n",
      "through:1\n",
      "pictures:3\n",
      "of:44\n",
      "yourself:2\n"
     ]
    }
   ],
   "source": [
    "for w in list(dict_words.keys())[:10]: print(f'{w}:{dict_words[w]}')"
   ]
  },
  {
   "cell_type": "markdown",
   "metadata": {},
   "source": [
    "### building frequencies\n",
    "For each word in the dictionary and load its frequency from the ngrams server.  \n",
    "If an error occurs and the download fails, then the word frequency among all documents is sent.  \n",
    "The ngrams downloader has a SQLite database and first checks if there are these words in the database,  \n",
    "if not, then it parses the Google site.  "
   ]
  },
  {
   "cell_type": "code",
   "execution_count": 45,
   "metadata": {},
   "outputs": [
    {
     "name": "stdout",
     "output_type": "stream",
     "text": [
      "Parsing ngrams frequencies words. part 3 of 6          \n",
      " Done                9\n"
     ]
    }
   ],
   "source": [
    "print('\\rCalculating frequencies of words. part 3 of 6', end=' '*10)\n",
    "total_words = sum(doc_words)\n",
    "dict_freq = dict()\n",
    "ngrams_freqs = ngrams.get_frequency(dict_words.keys())\n",
    "for i, key in enumerate(dict_words.keys()):\n",
    "    if ngrams_freqs[i] == 0:\n",
    "        dict_freq[key] = dict_words[key] / total_words\n",
    "    else:\n",
    "        dict_freq[key] = ngrams_freqs[i]"
   ]
  },
  {
   "cell_type": "markdown",
   "metadata": {},
   "source": [
    "### Dictionary of frequencies"
   ]
  },
  {
   "cell_type": "code",
   "execution_count": 57,
   "metadata": {},
   "outputs": [
    {
     "name": "stdout",
     "output_type": "stream",
     "text": [
      "don't     : 0.00038\n",
      "you       : 0.00192\n",
      "hate      : 0.00001\n",
      "when      : 0.00095\n",
      "you're    : 0.00006\n",
      "going     : 0.00020\n",
      "through   : 0.00064\n",
      "pictures  : 0.00003\n",
      "of        : 0.02945\n",
      "yourself  : 0.00004\n"
     ]
    }
   ],
   "source": [
    "for w in list(dict_freq.keys())[:10]: print(f'{w:10s}: {dict_freq[w]:.5f}')"
   ]
  },
  {
   "cell_type": "markdown",
   "metadata": {},
   "source": [
    "### accumulative table\n",
    "for row to word conversion and backwards (Word2Vect)"
   ]
  },
  {
   "cell_type": "code",
   "execution_count": 62,
   "metadata": {},
   "outputs": [],
   "source": [
    "word2row = dict()\n",
    "row2word = dict()\n",
    "# Frequencies from ngrams\n",
    "array_freqs = np.zeros((len(dict_words)))\n",
    "for i,word in enumerate(sorted(dict_words.keys())):\n",
    "    word2row[word] = i\n",
    "    row2word[i] = word\n",
    "    array_freqs[i] = dict_freq[word]"
   ]
  },
  {
   "cell_type": "markdown",
   "metadata": {},
   "source": [
    "### Table of word appearance in text"
   ]
  },
  {
   "cell_type": "code",
   "execution_count": 64,
   "metadata": {},
   "outputs": [
    {
     "name": "stdout",
     "output_type": "stream",
     "text": [
      "\r",
      "Table word appearance. part 4 of 6          "
     ]
    }
   ],
   "source": [
    "# [num docs, word, possition in doc] => (0,1)\n",
    "# Where word appears in the word possitions in documents. axis X - words, axis Y - possition in document\n",
    "print('\\rTable word appearance. part 4 of 6', end=' '*10)\n",
    "table_appearance = [np.zeros((len(dict_words), doc_len)) for doc_len in doc_words]\n",
    "for d,doc in enumerate(docs):\n",
    "    possition = 0\n",
    "    for word in doc:\n",
    "        table_appearance[d][word2row[word], possition] += 1\n",
    "        possition += 1"
   ]
  },
  {
   "cell_type": "markdown",
   "metadata": {},
   "source": [
    "### Table word appearance: \n",
    ">__rows__ - word; __columns__ - place in the text"
   ]
  },
  {
   "cell_type": "code",
   "execution_count": 80,
   "metadata": {},
   "outputs": [
    {
     "data": {
      "text/html": [
       "<div>\n",
       "<style scoped>\n",
       "    .dataframe tbody tr th:only-of-type {\n",
       "        vertical-align: middle;\n",
       "    }\n",
       "\n",
       "    .dataframe tbody tr th {\n",
       "        vertical-align: top;\n",
       "    }\n",
       "\n",
       "    .dataframe thead th {\n",
       "        text-align: right;\n",
       "    }\n",
       "</style>\n",
       "<table border=\"1\" class=\"dataframe\">\n",
       "  <thead>\n",
       "    <tr style=\"text-align: right;\">\n",
       "      <th></th>\n",
       "      <th>0</th>\n",
       "      <th>1</th>\n",
       "      <th>2</th>\n",
       "      <th>3</th>\n",
       "      <th>4</th>\n",
       "      <th>5</th>\n",
       "      <th>6</th>\n",
       "      <th>7</th>\n",
       "      <th>8</th>\n",
       "      <th>9</th>\n",
       "      <th>...</th>\n",
       "      <th>1188</th>\n",
       "      <th>1189</th>\n",
       "      <th>1190</th>\n",
       "      <th>1191</th>\n",
       "      <th>1192</th>\n",
       "      <th>1193</th>\n",
       "      <th>1194</th>\n",
       "      <th>1195</th>\n",
       "      <th>1196</th>\n",
       "      <th>word</th>\n",
       "    </tr>\n",
       "  </thead>\n",
       "  <tbody>\n",
       "    <tr>\n",
       "      <th>0</th>\n",
       "      <td>0.0</td>\n",
       "      <td>0.0</td>\n",
       "      <td>0.0</td>\n",
       "      <td>0.0</td>\n",
       "      <td>0.0</td>\n",
       "      <td>0.0</td>\n",
       "      <td>0.0</td>\n",
       "      <td>0.0</td>\n",
       "      <td>0.0</td>\n",
       "      <td>0.0</td>\n",
       "      <td>...</td>\n",
       "      <td>0.0</td>\n",
       "      <td>0.0</td>\n",
       "      <td>0.0</td>\n",
       "      <td>0.0</td>\n",
       "      <td>0.0</td>\n",
       "      <td>0.0</td>\n",
       "      <td>0.0</td>\n",
       "      <td>0.0</td>\n",
       "      <td>0.0</td>\n",
       "      <td>100%</td>\n",
       "    </tr>\n",
       "    <tr>\n",
       "      <th>1</th>\n",
       "      <td>0.0</td>\n",
       "      <td>0.0</td>\n",
       "      <td>0.0</td>\n",
       "      <td>0.0</td>\n",
       "      <td>0.0</td>\n",
       "      <td>0.0</td>\n",
       "      <td>0.0</td>\n",
       "      <td>0.0</td>\n",
       "      <td>0.0</td>\n",
       "      <td>0.0</td>\n",
       "      <td>...</td>\n",
       "      <td>0.0</td>\n",
       "      <td>0.0</td>\n",
       "      <td>0.0</td>\n",
       "      <td>0.0</td>\n",
       "      <td>0.0</td>\n",
       "      <td>0.0</td>\n",
       "      <td>0.0</td>\n",
       "      <td>0.0</td>\n",
       "      <td>0.0</td>\n",
       "      <td>12</td>\n",
       "    </tr>\n",
       "    <tr>\n",
       "      <th>2</th>\n",
       "      <td>0.0</td>\n",
       "      <td>0.0</td>\n",
       "      <td>0.0</td>\n",
       "      <td>0.0</td>\n",
       "      <td>0.0</td>\n",
       "      <td>0.0</td>\n",
       "      <td>0.0</td>\n",
       "      <td>0.0</td>\n",
       "      <td>0.0</td>\n",
       "      <td>0.0</td>\n",
       "      <td>...</td>\n",
       "      <td>0.0</td>\n",
       "      <td>0.0</td>\n",
       "      <td>0.0</td>\n",
       "      <td>0.0</td>\n",
       "      <td>0.0</td>\n",
       "      <td>0.0</td>\n",
       "      <td>0.0</td>\n",
       "      <td>0.0</td>\n",
       "      <td>0.0</td>\n",
       "      <td>15</td>\n",
       "    </tr>\n",
       "    <tr>\n",
       "      <th>3</th>\n",
       "      <td>0.0</td>\n",
       "      <td>0.0</td>\n",
       "      <td>0.0</td>\n",
       "      <td>0.0</td>\n",
       "      <td>0.0</td>\n",
       "      <td>0.0</td>\n",
       "      <td>0.0</td>\n",
       "      <td>0.0</td>\n",
       "      <td>0.0</td>\n",
       "      <td>0.0</td>\n",
       "      <td>...</td>\n",
       "      <td>0.0</td>\n",
       "      <td>0.0</td>\n",
       "      <td>0.0</td>\n",
       "      <td>0.0</td>\n",
       "      <td>0.0</td>\n",
       "      <td>0.0</td>\n",
       "      <td>0.0</td>\n",
       "      <td>0.0</td>\n",
       "      <td>0.0</td>\n",
       "      <td>2</td>\n",
       "    </tr>\n",
       "    <tr>\n",
       "      <th>4</th>\n",
       "      <td>0.0</td>\n",
       "      <td>0.0</td>\n",
       "      <td>0.0</td>\n",
       "      <td>0.0</td>\n",
       "      <td>0.0</td>\n",
       "      <td>0.0</td>\n",
       "      <td>0.0</td>\n",
       "      <td>0.0</td>\n",
       "      <td>0.0</td>\n",
       "      <td>0.0</td>\n",
       "      <td>...</td>\n",
       "      <td>0.0</td>\n",
       "      <td>0.0</td>\n",
       "      <td>0.0</td>\n",
       "      <td>0.0</td>\n",
       "      <td>0.0</td>\n",
       "      <td>0.0</td>\n",
       "      <td>0.0</td>\n",
       "      <td>0.0</td>\n",
       "      <td>0.0</td>\n",
       "      <td>3</td>\n",
       "    </tr>\n",
       "    <tr>\n",
       "      <th>...</th>\n",
       "      <td>...</td>\n",
       "      <td>...</td>\n",
       "      <td>...</td>\n",
       "      <td>...</td>\n",
       "      <td>...</td>\n",
       "      <td>...</td>\n",
       "      <td>...</td>\n",
       "      <td>...</td>\n",
       "      <td>...</td>\n",
       "      <td>...</td>\n",
       "      <td>...</td>\n",
       "      <td>...</td>\n",
       "      <td>...</td>\n",
       "      <td>...</td>\n",
       "      <td>...</td>\n",
       "      <td>...</td>\n",
       "      <td>...</td>\n",
       "      <td>...</td>\n",
       "      <td>...</td>\n",
       "      <td>...</td>\n",
       "      <td>...</td>\n",
       "    </tr>\n",
       "    <tr>\n",
       "      <th>654</th>\n",
       "      <td>0.0</td>\n",
       "      <td>1.0</td>\n",
       "      <td>0.0</td>\n",
       "      <td>0.0</td>\n",
       "      <td>0.0</td>\n",
       "      <td>0.0</td>\n",
       "      <td>0.0</td>\n",
       "      <td>0.0</td>\n",
       "      <td>0.0</td>\n",
       "      <td>0.0</td>\n",
       "      <td>...</td>\n",
       "      <td>0.0</td>\n",
       "      <td>0.0</td>\n",
       "      <td>0.0</td>\n",
       "      <td>0.0</td>\n",
       "      <td>0.0</td>\n",
       "      <td>0.0</td>\n",
       "      <td>1.0</td>\n",
       "      <td>0.0</td>\n",
       "      <td>0.0</td>\n",
       "      <td>you</td>\n",
       "    </tr>\n",
       "    <tr>\n",
       "      <th>655</th>\n",
       "      <td>0.0</td>\n",
       "      <td>0.0</td>\n",
       "      <td>0.0</td>\n",
       "      <td>0.0</td>\n",
       "      <td>1.0</td>\n",
       "      <td>0.0</td>\n",
       "      <td>0.0</td>\n",
       "      <td>0.0</td>\n",
       "      <td>0.0</td>\n",
       "      <td>0.0</td>\n",
       "      <td>...</td>\n",
       "      <td>0.0</td>\n",
       "      <td>0.0</td>\n",
       "      <td>0.0</td>\n",
       "      <td>0.0</td>\n",
       "      <td>0.0</td>\n",
       "      <td>0.0</td>\n",
       "      <td>0.0</td>\n",
       "      <td>0.0</td>\n",
       "      <td>0.0</td>\n",
       "      <td>you're</td>\n",
       "    </tr>\n",
       "    <tr>\n",
       "      <th>656</th>\n",
       "      <td>0.0</td>\n",
       "      <td>0.0</td>\n",
       "      <td>0.0</td>\n",
       "      <td>0.0</td>\n",
       "      <td>0.0</td>\n",
       "      <td>0.0</td>\n",
       "      <td>0.0</td>\n",
       "      <td>0.0</td>\n",
       "      <td>0.0</td>\n",
       "      <td>0.0</td>\n",
       "      <td>...</td>\n",
       "      <td>0.0</td>\n",
       "      <td>0.0</td>\n",
       "      <td>0.0</td>\n",
       "      <td>0.0</td>\n",
       "      <td>0.0</td>\n",
       "      <td>0.0</td>\n",
       "      <td>0.0</td>\n",
       "      <td>0.0</td>\n",
       "      <td>0.0</td>\n",
       "      <td>you've</td>\n",
       "    </tr>\n",
       "    <tr>\n",
       "      <th>657</th>\n",
       "      <td>0.0</td>\n",
       "      <td>0.0</td>\n",
       "      <td>0.0</td>\n",
       "      <td>0.0</td>\n",
       "      <td>0.0</td>\n",
       "      <td>0.0</td>\n",
       "      <td>0.0</td>\n",
       "      <td>0.0</td>\n",
       "      <td>0.0</td>\n",
       "      <td>0.0</td>\n",
       "      <td>...</td>\n",
       "      <td>0.0</td>\n",
       "      <td>0.0</td>\n",
       "      <td>0.0</td>\n",
       "      <td>0.0</td>\n",
       "      <td>0.0</td>\n",
       "      <td>0.0</td>\n",
       "      <td>0.0</td>\n",
       "      <td>0.0</td>\n",
       "      <td>0.0</td>\n",
       "      <td>your</td>\n",
       "    </tr>\n",
       "    <tr>\n",
       "      <th>658</th>\n",
       "      <td>0.0</td>\n",
       "      <td>0.0</td>\n",
       "      <td>0.0</td>\n",
       "      <td>0.0</td>\n",
       "      <td>0.0</td>\n",
       "      <td>0.0</td>\n",
       "      <td>0.0</td>\n",
       "      <td>0.0</td>\n",
       "      <td>0.0</td>\n",
       "      <td>1.0</td>\n",
       "      <td>...</td>\n",
       "      <td>0.0</td>\n",
       "      <td>0.0</td>\n",
       "      <td>0.0</td>\n",
       "      <td>0.0</td>\n",
       "      <td>0.0</td>\n",
       "      <td>0.0</td>\n",
       "      <td>0.0</td>\n",
       "      <td>0.0</td>\n",
       "      <td>0.0</td>\n",
       "      <td>yourself</td>\n",
       "    </tr>\n",
       "  </tbody>\n",
       "</table>\n",
       "<p>659 rows × 1198 columns</p>\n",
       "</div>"
      ],
      "text/plain": [
       "       0    1    2    3    4    5    6    7    8    9  ...  1188  1189  1190  \\\n",
       "0    0.0  0.0  0.0  0.0  0.0  0.0  0.0  0.0  0.0  0.0  ...   0.0   0.0   0.0   \n",
       "1    0.0  0.0  0.0  0.0  0.0  0.0  0.0  0.0  0.0  0.0  ...   0.0   0.0   0.0   \n",
       "2    0.0  0.0  0.0  0.0  0.0  0.0  0.0  0.0  0.0  0.0  ...   0.0   0.0   0.0   \n",
       "3    0.0  0.0  0.0  0.0  0.0  0.0  0.0  0.0  0.0  0.0  ...   0.0   0.0   0.0   \n",
       "4    0.0  0.0  0.0  0.0  0.0  0.0  0.0  0.0  0.0  0.0  ...   0.0   0.0   0.0   \n",
       "..   ...  ...  ...  ...  ...  ...  ...  ...  ...  ...  ...   ...   ...   ...   \n",
       "654  0.0  1.0  0.0  0.0  0.0  0.0  0.0  0.0  0.0  0.0  ...   0.0   0.0   0.0   \n",
       "655  0.0  0.0  0.0  0.0  1.0  0.0  0.0  0.0  0.0  0.0  ...   0.0   0.0   0.0   \n",
       "656  0.0  0.0  0.0  0.0  0.0  0.0  0.0  0.0  0.0  0.0  ...   0.0   0.0   0.0   \n",
       "657  0.0  0.0  0.0  0.0  0.0  0.0  0.0  0.0  0.0  0.0  ...   0.0   0.0   0.0   \n",
       "658  0.0  0.0  0.0  0.0  0.0  0.0  0.0  0.0  0.0  1.0  ...   0.0   0.0   0.0   \n",
       "\n",
       "     1191  1192  1193  1194  1195  1196      word  \n",
       "0     0.0   0.0   0.0   0.0   0.0   0.0      100%  \n",
       "1     0.0   0.0   0.0   0.0   0.0   0.0        12  \n",
       "2     0.0   0.0   0.0   0.0   0.0   0.0        15  \n",
       "3     0.0   0.0   0.0   0.0   0.0   0.0         2  \n",
       "4     0.0   0.0   0.0   0.0   0.0   0.0         3  \n",
       "..    ...   ...   ...   ...   ...   ...       ...  \n",
       "654   0.0   0.0   0.0   1.0   0.0   0.0       you  \n",
       "655   0.0   0.0   0.0   0.0   0.0   0.0    you're  \n",
       "656   0.0   0.0   0.0   0.0   0.0   0.0    you've  \n",
       "657   0.0   0.0   0.0   0.0   0.0   0.0      your  \n",
       "658   0.0   0.0   0.0   0.0   0.0   0.0  yourself  \n",
       "\n",
       "[659 rows x 1198 columns]"
      ]
     },
     "execution_count": 80,
     "metadata": {},
     "output_type": "execute_result"
    }
   ],
   "source": [
    "ta = pd.DataFrame(table_appearance[0])\n",
    "ta['word'] = word2row.keys()\n",
    "ta"
   ]
  },
  {
   "cell_type": "markdown",
   "metadata": {},
   "source": [
    "### How much times word appears in the window of words in text\n",
    "To divide the document into parts, we count TF IDF in the interval of 100 words (window)  \n",
    "to understand which words are key at a given interval"
   ]
  },
  {
   "cell_type": "code",
   "execution_count": 88,
   "metadata": {},
   "outputs": [
    {
     "name": "stdout",
     "output_type": "stream",
     "text": [
      "\r",
      "Table word appearance frequency in window(100). part 5 of 6    "
     ]
    }
   ],
   "source": [
    "print(f'\\rTable word appearance frequency in window({window}). part 5 of 6', end=' '*4)\n",
    "table_appearance_freq = [np.zeros((table.shape[0], table.shape[1])) for table in table_appearance]\n",
    "mean_freq_inverted = []\n",
    "for d, table in enumerate(table_appearance):\n",
    "    half = window // 2\n",
    "    end = table.shape[1] - 1\n",
    "    for i in range(table.shape[1]):\n",
    "        # Inverse Document Frequency\n",
    "        IDF = (table[:, max(0, i - half):min(end, i + half)].sum(axis=1) / window) / array_freqs\n",
    "        IDF_bm = 5*IDF/(IDF+4)  #BM25 transformation, k = 4\n",
    "        table_appearance_freq[d][:,i] = IDF_bm\n",
    "        mean_freq_inverted.append(np.mean(IDF_bm))\n",
    "mean_freq_inverted = np.mean(mean_freq_inverted)"
   ]
  },
  {
   "cell_type": "markdown",
   "metadata": {},
   "source": [
    "### Table word appearance frequency : \n",
    ">__rows__ - word; __columns__ - place in the text; __value__ - inverted frequency"
   ]
  },
  {
   "cell_type": "code",
   "execution_count": 87,
   "metadata": {},
   "outputs": [
    {
     "data": {
      "text/html": [
       "<div>\n",
       "<style scoped>\n",
       "    .dataframe tbody tr th:only-of-type {\n",
       "        vertical-align: middle;\n",
       "    }\n",
       "\n",
       "    .dataframe tbody tr th {\n",
       "        vertical-align: top;\n",
       "    }\n",
       "\n",
       "    .dataframe thead th {\n",
       "        text-align: right;\n",
       "    }\n",
       "</style>\n",
       "<table border=\"1\" class=\"dataframe\">\n",
       "  <thead>\n",
       "    <tr style=\"text-align: right;\">\n",
       "      <th></th>\n",
       "      <th>0</th>\n",
       "      <th>1</th>\n",
       "      <th>2</th>\n",
       "      <th>3</th>\n",
       "      <th>4</th>\n",
       "      <th>5</th>\n",
       "      <th>6</th>\n",
       "      <th>7</th>\n",
       "      <th>8</th>\n",
       "      <th>9</th>\n",
       "      <th>...</th>\n",
       "      <th>1188</th>\n",
       "      <th>1189</th>\n",
       "      <th>1190</th>\n",
       "      <th>1191</th>\n",
       "      <th>1192</th>\n",
       "      <th>1193</th>\n",
       "      <th>1194</th>\n",
       "      <th>1195</th>\n",
       "      <th>1196</th>\n",
       "      <th>word</th>\n",
       "    </tr>\n",
       "  </thead>\n",
       "  <tbody>\n",
       "    <tr>\n",
       "      <th>0</th>\n",
       "      <td>0.000</td>\n",
       "      <td>0.000</td>\n",
       "      <td>0.000</td>\n",
       "      <td>0.000</td>\n",
       "      <td>0.000</td>\n",
       "      <td>0.000</td>\n",
       "      <td>0.000</td>\n",
       "      <td>0.000</td>\n",
       "      <td>0.000</td>\n",
       "      <td>0.000</td>\n",
       "      <td>...</td>\n",
       "      <td>0.000</td>\n",
       "      <td>0.000</td>\n",
       "      <td>0.000</td>\n",
       "      <td>0.000</td>\n",
       "      <td>0.000</td>\n",
       "      <td>0.000</td>\n",
       "      <td>0.000</td>\n",
       "      <td>0.000</td>\n",
       "      <td>0.000</td>\n",
       "      <td>100%</td>\n",
       "    </tr>\n",
       "    <tr>\n",
       "      <th>1</th>\n",
       "      <td>0.000</td>\n",
       "      <td>0.000</td>\n",
       "      <td>0.000</td>\n",
       "      <td>0.000</td>\n",
       "      <td>0.000</td>\n",
       "      <td>0.000</td>\n",
       "      <td>0.000</td>\n",
       "      <td>0.000</td>\n",
       "      <td>0.000</td>\n",
       "      <td>0.000</td>\n",
       "      <td>...</td>\n",
       "      <td>0.000</td>\n",
       "      <td>0.000</td>\n",
       "      <td>0.000</td>\n",
       "      <td>0.000</td>\n",
       "      <td>0.000</td>\n",
       "      <td>0.000</td>\n",
       "      <td>0.000</td>\n",
       "      <td>0.000</td>\n",
       "      <td>0.000</td>\n",
       "      <td>12</td>\n",
       "    </tr>\n",
       "    <tr>\n",
       "      <th>2</th>\n",
       "      <td>0.000</td>\n",
       "      <td>0.000</td>\n",
       "      <td>0.000</td>\n",
       "      <td>0.000</td>\n",
       "      <td>0.000</td>\n",
       "      <td>0.000</td>\n",
       "      <td>0.000</td>\n",
       "      <td>0.000</td>\n",
       "      <td>0.000</td>\n",
       "      <td>0.000</td>\n",
       "      <td>...</td>\n",
       "      <td>0.000</td>\n",
       "      <td>0.000</td>\n",
       "      <td>0.000</td>\n",
       "      <td>0.000</td>\n",
       "      <td>0.000</td>\n",
       "      <td>0.000</td>\n",
       "      <td>0.000</td>\n",
       "      <td>0.000</td>\n",
       "      <td>0.000</td>\n",
       "      <td>15</td>\n",
       "    </tr>\n",
       "    <tr>\n",
       "      <th>3</th>\n",
       "      <td>0.000</td>\n",
       "      <td>0.000</td>\n",
       "      <td>0.000</td>\n",
       "      <td>0.000</td>\n",
       "      <td>0.000</td>\n",
       "      <td>0.000</td>\n",
       "      <td>0.000</td>\n",
       "      <td>0.000</td>\n",
       "      <td>0.000</td>\n",
       "      <td>0.000</td>\n",
       "      <td>...</td>\n",
       "      <td>0.000</td>\n",
       "      <td>0.000</td>\n",
       "      <td>0.000</td>\n",
       "      <td>0.000</td>\n",
       "      <td>0.000</td>\n",
       "      <td>0.000</td>\n",
       "      <td>0.000</td>\n",
       "      <td>0.000</td>\n",
       "      <td>0.000</td>\n",
       "      <td>2</td>\n",
       "    </tr>\n",
       "    <tr>\n",
       "      <th>4</th>\n",
       "      <td>0.000</td>\n",
       "      <td>0.000</td>\n",
       "      <td>0.000</td>\n",
       "      <td>0.000</td>\n",
       "      <td>0.000</td>\n",
       "      <td>0.000</td>\n",
       "      <td>0.000</td>\n",
       "      <td>0.000</td>\n",
       "      <td>0.000</td>\n",
       "      <td>0.000</td>\n",
       "      <td>...</td>\n",
       "      <td>0.000</td>\n",
       "      <td>0.000</td>\n",
       "      <td>0.000</td>\n",
       "      <td>0.000</td>\n",
       "      <td>0.000</td>\n",
       "      <td>0.000</td>\n",
       "      <td>0.000</td>\n",
       "      <td>0.000</td>\n",
       "      <td>0.000</td>\n",
       "      <td>3</td>\n",
       "    </tr>\n",
       "    <tr>\n",
       "      <th>...</th>\n",
       "      <td>...</td>\n",
       "      <td>...</td>\n",
       "      <td>...</td>\n",
       "      <td>...</td>\n",
       "      <td>...</td>\n",
       "      <td>...</td>\n",
       "      <td>...</td>\n",
       "      <td>...</td>\n",
       "      <td>...</td>\n",
       "      <td>...</td>\n",
       "      <td>...</td>\n",
       "      <td>...</td>\n",
       "      <td>...</td>\n",
       "      <td>...</td>\n",
       "      <td>...</td>\n",
       "      <td>...</td>\n",
       "      <td>...</td>\n",
       "      <td>...</td>\n",
       "      <td>...</td>\n",
       "      <td>...</td>\n",
       "      <td>...</td>\n",
       "    </tr>\n",
       "    <tr>\n",
       "      <th>654</th>\n",
       "      <td>2.829</td>\n",
       "      <td>2.829</td>\n",
       "      <td>2.829</td>\n",
       "      <td>2.829</td>\n",
       "      <td>2.829</td>\n",
       "      <td>2.829</td>\n",
       "      <td>2.829</td>\n",
       "      <td>2.829</td>\n",
       "      <td>2.829</td>\n",
       "      <td>2.829</td>\n",
       "      <td>...</td>\n",
       "      <td>3.613</td>\n",
       "      <td>3.613</td>\n",
       "      <td>3.613</td>\n",
       "      <td>3.613</td>\n",
       "      <td>3.613</td>\n",
       "      <td>3.613</td>\n",
       "      <td>3.613</td>\n",
       "      <td>3.613</td>\n",
       "      <td>3.613</td>\n",
       "      <td>you</td>\n",
       "    </tr>\n",
       "    <tr>\n",
       "      <th>655</th>\n",
       "      <td>4.943</td>\n",
       "      <td>4.943</td>\n",
       "      <td>4.943</td>\n",
       "      <td>4.943</td>\n",
       "      <td>4.943</td>\n",
       "      <td>4.943</td>\n",
       "      <td>4.943</td>\n",
       "      <td>4.943</td>\n",
       "      <td>4.943</td>\n",
       "      <td>4.943</td>\n",
       "      <td>...</td>\n",
       "      <td>0.000</td>\n",
       "      <td>0.000</td>\n",
       "      <td>0.000</td>\n",
       "      <td>0.000</td>\n",
       "      <td>0.000</td>\n",
       "      <td>0.000</td>\n",
       "      <td>0.000</td>\n",
       "      <td>0.000</td>\n",
       "      <td>0.000</td>\n",
       "      <td>you're</td>\n",
       "    </tr>\n",
       "    <tr>\n",
       "      <th>656</th>\n",
       "      <td>0.000</td>\n",
       "      <td>0.000</td>\n",
       "      <td>0.000</td>\n",
       "      <td>0.000</td>\n",
       "      <td>0.000</td>\n",
       "      <td>0.000</td>\n",
       "      <td>0.000</td>\n",
       "      <td>0.000</td>\n",
       "      <td>0.000</td>\n",
       "      <td>0.000</td>\n",
       "      <td>...</td>\n",
       "      <td>4.960</td>\n",
       "      <td>0.000</td>\n",
       "      <td>0.000</td>\n",
       "      <td>0.000</td>\n",
       "      <td>0.000</td>\n",
       "      <td>0.000</td>\n",
       "      <td>0.000</td>\n",
       "      <td>0.000</td>\n",
       "      <td>0.000</td>\n",
       "      <td>you've</td>\n",
       "    </tr>\n",
       "    <tr>\n",
       "      <th>657</th>\n",
       "      <td>4.376</td>\n",
       "      <td>4.376</td>\n",
       "      <td>4.376</td>\n",
       "      <td>4.376</td>\n",
       "      <td>4.376</td>\n",
       "      <td>4.376</td>\n",
       "      <td>4.376</td>\n",
       "      <td>4.376</td>\n",
       "      <td>4.376</td>\n",
       "      <td>4.376</td>\n",
       "      <td>...</td>\n",
       "      <td>0.000</td>\n",
       "      <td>0.000</td>\n",
       "      <td>0.000</td>\n",
       "      <td>0.000</td>\n",
       "      <td>0.000</td>\n",
       "      <td>0.000</td>\n",
       "      <td>0.000</td>\n",
       "      <td>0.000</td>\n",
       "      <td>0.000</td>\n",
       "      <td>your</td>\n",
       "    </tr>\n",
       "    <tr>\n",
       "      <th>658</th>\n",
       "      <td>4.915</td>\n",
       "      <td>4.915</td>\n",
       "      <td>4.915</td>\n",
       "      <td>4.915</td>\n",
       "      <td>4.915</td>\n",
       "      <td>4.915</td>\n",
       "      <td>4.915</td>\n",
       "      <td>4.915</td>\n",
       "      <td>4.915</td>\n",
       "      <td>4.915</td>\n",
       "      <td>...</td>\n",
       "      <td>0.000</td>\n",
       "      <td>0.000</td>\n",
       "      <td>0.000</td>\n",
       "      <td>0.000</td>\n",
       "      <td>0.000</td>\n",
       "      <td>0.000</td>\n",
       "      <td>0.000</td>\n",
       "      <td>0.000</td>\n",
       "      <td>0.000</td>\n",
       "      <td>yourself</td>\n",
       "    </tr>\n",
       "  </tbody>\n",
       "</table>\n",
       "<p>659 rows × 1198 columns</p>\n",
       "</div>"
      ],
      "text/plain": [
       "         0      1      2      3      4      5      6      7      8      9  \\\n",
       "0    0.000  0.000  0.000  0.000  0.000  0.000  0.000  0.000  0.000  0.000   \n",
       "1    0.000  0.000  0.000  0.000  0.000  0.000  0.000  0.000  0.000  0.000   \n",
       "2    0.000  0.000  0.000  0.000  0.000  0.000  0.000  0.000  0.000  0.000   \n",
       "3    0.000  0.000  0.000  0.000  0.000  0.000  0.000  0.000  0.000  0.000   \n",
       "4    0.000  0.000  0.000  0.000  0.000  0.000  0.000  0.000  0.000  0.000   \n",
       "..     ...    ...    ...    ...    ...    ...    ...    ...    ...    ...   \n",
       "654  2.829  2.829  2.829  2.829  2.829  2.829  2.829  2.829  2.829  2.829   \n",
       "655  4.943  4.943  4.943  4.943  4.943  4.943  4.943  4.943  4.943  4.943   \n",
       "656  0.000  0.000  0.000  0.000  0.000  0.000  0.000  0.000  0.000  0.000   \n",
       "657  4.376  4.376  4.376  4.376  4.376  4.376  4.376  4.376  4.376  4.376   \n",
       "658  4.915  4.915  4.915  4.915  4.915  4.915  4.915  4.915  4.915  4.915   \n",
       "\n",
       "     ...   1188   1189   1190   1191   1192   1193   1194   1195   1196  \\\n",
       "0    ...  0.000  0.000  0.000  0.000  0.000  0.000  0.000  0.000  0.000   \n",
       "1    ...  0.000  0.000  0.000  0.000  0.000  0.000  0.000  0.000  0.000   \n",
       "2    ...  0.000  0.000  0.000  0.000  0.000  0.000  0.000  0.000  0.000   \n",
       "3    ...  0.000  0.000  0.000  0.000  0.000  0.000  0.000  0.000  0.000   \n",
       "4    ...  0.000  0.000  0.000  0.000  0.000  0.000  0.000  0.000  0.000   \n",
       "..   ...    ...    ...    ...    ...    ...    ...    ...    ...    ...   \n",
       "654  ...  3.613  3.613  3.613  3.613  3.613  3.613  3.613  3.613  3.613   \n",
       "655  ...  0.000  0.000  0.000  0.000  0.000  0.000  0.000  0.000  0.000   \n",
       "656  ...  4.960  0.000  0.000  0.000  0.000  0.000  0.000  0.000  0.000   \n",
       "657  ...  0.000  0.000  0.000  0.000  0.000  0.000  0.000  0.000  0.000   \n",
       "658  ...  0.000  0.000  0.000  0.000  0.000  0.000  0.000  0.000  0.000   \n",
       "\n",
       "         word  \n",
       "0        100%  \n",
       "1          12  \n",
       "2          15  \n",
       "3           2  \n",
       "4           3  \n",
       "..        ...  \n",
       "654       you  \n",
       "655    you're  \n",
       "656    you've  \n",
       "657      your  \n",
       "658  yourself  \n",
       "\n",
       "[659 rows x 1198 columns]"
      ]
     },
     "execution_count": 87,
     "metadata": {},
     "output_type": "execute_result"
    }
   ],
   "source": [
    "taf = pd.DataFrame(table_appearance_freq[0].round(3))\n",
    "taf['word'] = word2row.keys()\n",
    "taf"
   ]
  },
  {
   "cell_type": "markdown",
   "metadata": {},
   "source": [
    "### Choising best words\n",
    ">At each step of the segment, we take an estimate of the frequency of the n-th word (after sorting),  \n",
    "where n is the number of words that we want to take for the title. We get the minimum frequency for n words.  \n",
    "So we take the average estimate of the frequency of words in the document and choose the maximum of these two values.  \n",
    "It turns out at each step we get up to n words with the maximum score for this step.  "
   ]
  },
  {
   "cell_type": "code",
   "execution_count": 89,
   "metadata": {},
   "outputs": [
    {
     "name": "stdout",
     "output_type": "stream",
     "text": [
      "\r",
      "Table word most appearance in window. part 6 of 6          "
     ]
    }
   ],
   "source": [
    "data = [{'app_freq':0, 'app_freq_f':0, 'most_app':0, 'most_words':0} for _ in range(len(docs))]\n",
    "print('\\rTable word most appearance in window. part 6 of 6', end=' '*10)\n",
    "for i,table in enumerate(table_appearance_freq):\n",
    "    dataset = pd.DataFrame(table.T, columns=word2row.keys())\n",
    "    # dataset.to_csv(f'result_words_{i}.csv', index=None)\n",
    "    data[i]['app_freq'] = dataset\n",
    "\n",
    "    # dataset with One Hot encoding for most frequent words\n",
    "    dataset_filtered = dataset.copy(True)\n",
    "    for j in range(dataset_filtered.shape[0]):\n",
    "        limit = sorted(dataset_filtered.loc[j], reverse=True)[max_words] # taking frequency of last frequent word\n",
    "        limit = max(limit, mean_freq_inverted)\n",
    "        dataset_filtered.loc[j] = dataset_filtered.loc[j].mask(dataset_filtered.loc[j] < limit, 0)\n",
    "    data[i]['app_freq_f'] = dataset_filtered.fillna(0)"
   ]
  },
  {
   "cell_type": "markdown",
   "metadata": {},
   "source": [
    "### Filtered table of frequencies\n",
    ">__index__ - word; __columns__ - possition in text"
   ]
  },
  {
   "cell_type": "code",
   "execution_count": 94,
   "metadata": {},
   "outputs": [
    {
     "data": {
      "text/html": [
       "<div>\n",
       "<style scoped>\n",
       "    .dataframe tbody tr th:only-of-type {\n",
       "        vertical-align: middle;\n",
       "    }\n",
       "\n",
       "    .dataframe tbody tr th {\n",
       "        vertical-align: top;\n",
       "    }\n",
       "\n",
       "    .dataframe thead th {\n",
       "        text-align: right;\n",
       "    }\n",
       "</style>\n",
       "<table border=\"1\" class=\"dataframe\">\n",
       "  <thead>\n",
       "    <tr style=\"text-align: right;\">\n",
       "      <th></th>\n",
       "      <th>0</th>\n",
       "      <th>1</th>\n",
       "      <th>2</th>\n",
       "      <th>3</th>\n",
       "      <th>4</th>\n",
       "      <th>5</th>\n",
       "      <th>6</th>\n",
       "      <th>7</th>\n",
       "      <th>8</th>\n",
       "      <th>9</th>\n",
       "      <th>...</th>\n",
       "      <th>1187</th>\n",
       "      <th>1188</th>\n",
       "      <th>1189</th>\n",
       "      <th>1190</th>\n",
       "      <th>1191</th>\n",
       "      <th>1192</th>\n",
       "      <th>1193</th>\n",
       "      <th>1194</th>\n",
       "      <th>1195</th>\n",
       "      <th>1196</th>\n",
       "    </tr>\n",
       "  </thead>\n",
       "  <tbody>\n",
       "    <tr>\n",
       "      <th>100%</th>\n",
       "      <td>0.0</td>\n",
       "      <td>0.0</td>\n",
       "      <td>0.0</td>\n",
       "      <td>0.0</td>\n",
       "      <td>0.0</td>\n",
       "      <td>0.0</td>\n",
       "      <td>0.0</td>\n",
       "      <td>0.0</td>\n",
       "      <td>0.0</td>\n",
       "      <td>0.0</td>\n",
       "      <td>...</td>\n",
       "      <td>0.00</td>\n",
       "      <td>0.00</td>\n",
       "      <td>0.0</td>\n",
       "      <td>0.0</td>\n",
       "      <td>0.0</td>\n",
       "      <td>0.0</td>\n",
       "      <td>0.0</td>\n",
       "      <td>0.0</td>\n",
       "      <td>0.0</td>\n",
       "      <td>0.0</td>\n",
       "    </tr>\n",
       "    <tr>\n",
       "      <th>12</th>\n",
       "      <td>0.0</td>\n",
       "      <td>0.0</td>\n",
       "      <td>0.0</td>\n",
       "      <td>0.0</td>\n",
       "      <td>0.0</td>\n",
       "      <td>0.0</td>\n",
       "      <td>0.0</td>\n",
       "      <td>0.0</td>\n",
       "      <td>0.0</td>\n",
       "      <td>0.0</td>\n",
       "      <td>...</td>\n",
       "      <td>0.00</td>\n",
       "      <td>0.00</td>\n",
       "      <td>0.0</td>\n",
       "      <td>0.0</td>\n",
       "      <td>0.0</td>\n",
       "      <td>0.0</td>\n",
       "      <td>0.0</td>\n",
       "      <td>0.0</td>\n",
       "      <td>0.0</td>\n",
       "      <td>0.0</td>\n",
       "    </tr>\n",
       "    <tr>\n",
       "      <th>15</th>\n",
       "      <td>0.0</td>\n",
       "      <td>0.0</td>\n",
       "      <td>0.0</td>\n",
       "      <td>0.0</td>\n",
       "      <td>0.0</td>\n",
       "      <td>0.0</td>\n",
       "      <td>0.0</td>\n",
       "      <td>0.0</td>\n",
       "      <td>0.0</td>\n",
       "      <td>0.0</td>\n",
       "      <td>...</td>\n",
       "      <td>0.00</td>\n",
       "      <td>0.00</td>\n",
       "      <td>0.0</td>\n",
       "      <td>0.0</td>\n",
       "      <td>0.0</td>\n",
       "      <td>0.0</td>\n",
       "      <td>0.0</td>\n",
       "      <td>0.0</td>\n",
       "      <td>0.0</td>\n",
       "      <td>0.0</td>\n",
       "    </tr>\n",
       "    <tr>\n",
       "      <th>2</th>\n",
       "      <td>0.0</td>\n",
       "      <td>0.0</td>\n",
       "      <td>0.0</td>\n",
       "      <td>0.0</td>\n",
       "      <td>0.0</td>\n",
       "      <td>0.0</td>\n",
       "      <td>0.0</td>\n",
       "      <td>0.0</td>\n",
       "      <td>0.0</td>\n",
       "      <td>0.0</td>\n",
       "      <td>...</td>\n",
       "      <td>0.00</td>\n",
       "      <td>0.00</td>\n",
       "      <td>0.0</td>\n",
       "      <td>0.0</td>\n",
       "      <td>0.0</td>\n",
       "      <td>0.0</td>\n",
       "      <td>0.0</td>\n",
       "      <td>0.0</td>\n",
       "      <td>0.0</td>\n",
       "      <td>0.0</td>\n",
       "    </tr>\n",
       "    <tr>\n",
       "      <th>3</th>\n",
       "      <td>0.0</td>\n",
       "      <td>0.0</td>\n",
       "      <td>0.0</td>\n",
       "      <td>0.0</td>\n",
       "      <td>0.0</td>\n",
       "      <td>0.0</td>\n",
       "      <td>0.0</td>\n",
       "      <td>0.0</td>\n",
       "      <td>0.0</td>\n",
       "      <td>0.0</td>\n",
       "      <td>...</td>\n",
       "      <td>0.00</td>\n",
       "      <td>0.00</td>\n",
       "      <td>0.0</td>\n",
       "      <td>0.0</td>\n",
       "      <td>0.0</td>\n",
       "      <td>0.0</td>\n",
       "      <td>0.0</td>\n",
       "      <td>0.0</td>\n",
       "      <td>0.0</td>\n",
       "      <td>0.0</td>\n",
       "    </tr>\n",
       "    <tr>\n",
       "      <th>...</th>\n",
       "      <td>...</td>\n",
       "      <td>...</td>\n",
       "      <td>...</td>\n",
       "      <td>...</td>\n",
       "      <td>...</td>\n",
       "      <td>...</td>\n",
       "      <td>...</td>\n",
       "      <td>...</td>\n",
       "      <td>...</td>\n",
       "      <td>...</td>\n",
       "      <td>...</td>\n",
       "      <td>...</td>\n",
       "      <td>...</td>\n",
       "      <td>...</td>\n",
       "      <td>...</td>\n",
       "      <td>...</td>\n",
       "      <td>...</td>\n",
       "      <td>...</td>\n",
       "      <td>...</td>\n",
       "      <td>...</td>\n",
       "      <td>...</td>\n",
       "    </tr>\n",
       "    <tr>\n",
       "      <th>you</th>\n",
       "      <td>0.0</td>\n",
       "      <td>0.0</td>\n",
       "      <td>0.0</td>\n",
       "      <td>0.0</td>\n",
       "      <td>0.0</td>\n",
       "      <td>0.0</td>\n",
       "      <td>0.0</td>\n",
       "      <td>0.0</td>\n",
       "      <td>0.0</td>\n",
       "      <td>0.0</td>\n",
       "      <td>...</td>\n",
       "      <td>0.00</td>\n",
       "      <td>0.00</td>\n",
       "      <td>0.0</td>\n",
       "      <td>0.0</td>\n",
       "      <td>0.0</td>\n",
       "      <td>0.0</td>\n",
       "      <td>0.0</td>\n",
       "      <td>0.0</td>\n",
       "      <td>0.0</td>\n",
       "      <td>0.0</td>\n",
       "    </tr>\n",
       "    <tr>\n",
       "      <th>you're</th>\n",
       "      <td>0.0</td>\n",
       "      <td>0.0</td>\n",
       "      <td>0.0</td>\n",
       "      <td>0.0</td>\n",
       "      <td>0.0</td>\n",
       "      <td>0.0</td>\n",
       "      <td>0.0</td>\n",
       "      <td>0.0</td>\n",
       "      <td>0.0</td>\n",
       "      <td>0.0</td>\n",
       "      <td>...</td>\n",
       "      <td>0.00</td>\n",
       "      <td>0.00</td>\n",
       "      <td>0.0</td>\n",
       "      <td>0.0</td>\n",
       "      <td>0.0</td>\n",
       "      <td>0.0</td>\n",
       "      <td>0.0</td>\n",
       "      <td>0.0</td>\n",
       "      <td>0.0</td>\n",
       "      <td>0.0</td>\n",
       "    </tr>\n",
       "    <tr>\n",
       "      <th>you've</th>\n",
       "      <td>0.0</td>\n",
       "      <td>0.0</td>\n",
       "      <td>0.0</td>\n",
       "      <td>0.0</td>\n",
       "      <td>0.0</td>\n",
       "      <td>0.0</td>\n",
       "      <td>0.0</td>\n",
       "      <td>0.0</td>\n",
       "      <td>0.0</td>\n",
       "      <td>0.0</td>\n",
       "      <td>...</td>\n",
       "      <td>4.96</td>\n",
       "      <td>4.96</td>\n",
       "      <td>0.0</td>\n",
       "      <td>0.0</td>\n",
       "      <td>0.0</td>\n",
       "      <td>0.0</td>\n",
       "      <td>0.0</td>\n",
       "      <td>0.0</td>\n",
       "      <td>0.0</td>\n",
       "      <td>0.0</td>\n",
       "    </tr>\n",
       "    <tr>\n",
       "      <th>your</th>\n",
       "      <td>0.0</td>\n",
       "      <td>0.0</td>\n",
       "      <td>0.0</td>\n",
       "      <td>0.0</td>\n",
       "      <td>0.0</td>\n",
       "      <td>0.0</td>\n",
       "      <td>0.0</td>\n",
       "      <td>0.0</td>\n",
       "      <td>0.0</td>\n",
       "      <td>0.0</td>\n",
       "      <td>...</td>\n",
       "      <td>0.00</td>\n",
       "      <td>0.00</td>\n",
       "      <td>0.0</td>\n",
       "      <td>0.0</td>\n",
       "      <td>0.0</td>\n",
       "      <td>0.0</td>\n",
       "      <td>0.0</td>\n",
       "      <td>0.0</td>\n",
       "      <td>0.0</td>\n",
       "      <td>0.0</td>\n",
       "    </tr>\n",
       "    <tr>\n",
       "      <th>yourself</th>\n",
       "      <td>0.0</td>\n",
       "      <td>0.0</td>\n",
       "      <td>0.0</td>\n",
       "      <td>0.0</td>\n",
       "      <td>0.0</td>\n",
       "      <td>0.0</td>\n",
       "      <td>0.0</td>\n",
       "      <td>0.0</td>\n",
       "      <td>0.0</td>\n",
       "      <td>0.0</td>\n",
       "      <td>...</td>\n",
       "      <td>0.00</td>\n",
       "      <td>0.00</td>\n",
       "      <td>0.0</td>\n",
       "      <td>0.0</td>\n",
       "      <td>0.0</td>\n",
       "      <td>0.0</td>\n",
       "      <td>0.0</td>\n",
       "      <td>0.0</td>\n",
       "      <td>0.0</td>\n",
       "      <td>0.0</td>\n",
       "    </tr>\n",
       "  </tbody>\n",
       "</table>\n",
       "<p>659 rows × 1197 columns</p>\n",
       "</div>"
      ],
      "text/plain": [
       "          0     1     2     3     4     5     6     7     8     9     ...  \\\n",
       "100%       0.0   0.0   0.0   0.0   0.0   0.0   0.0   0.0   0.0   0.0  ...   \n",
       "12         0.0   0.0   0.0   0.0   0.0   0.0   0.0   0.0   0.0   0.0  ...   \n",
       "15         0.0   0.0   0.0   0.0   0.0   0.0   0.0   0.0   0.0   0.0  ...   \n",
       "2          0.0   0.0   0.0   0.0   0.0   0.0   0.0   0.0   0.0   0.0  ...   \n",
       "3          0.0   0.0   0.0   0.0   0.0   0.0   0.0   0.0   0.0   0.0  ...   \n",
       "...        ...   ...   ...   ...   ...   ...   ...   ...   ...   ...  ...   \n",
       "you        0.0   0.0   0.0   0.0   0.0   0.0   0.0   0.0   0.0   0.0  ...   \n",
       "you're     0.0   0.0   0.0   0.0   0.0   0.0   0.0   0.0   0.0   0.0  ...   \n",
       "you've     0.0   0.0   0.0   0.0   0.0   0.0   0.0   0.0   0.0   0.0  ...   \n",
       "your       0.0   0.0   0.0   0.0   0.0   0.0   0.0   0.0   0.0   0.0  ...   \n",
       "yourself   0.0   0.0   0.0   0.0   0.0   0.0   0.0   0.0   0.0   0.0  ...   \n",
       "\n",
       "          1187  1188  1189  1190  1191  1192  1193  1194  1195  1196  \n",
       "100%      0.00  0.00   0.0   0.0   0.0   0.0   0.0   0.0   0.0   0.0  \n",
       "12        0.00  0.00   0.0   0.0   0.0   0.0   0.0   0.0   0.0   0.0  \n",
       "15        0.00  0.00   0.0   0.0   0.0   0.0   0.0   0.0   0.0   0.0  \n",
       "2         0.00  0.00   0.0   0.0   0.0   0.0   0.0   0.0   0.0   0.0  \n",
       "3         0.00  0.00   0.0   0.0   0.0   0.0   0.0   0.0   0.0   0.0  \n",
       "...        ...   ...   ...   ...   ...   ...   ...   ...   ...   ...  \n",
       "you       0.00  0.00   0.0   0.0   0.0   0.0   0.0   0.0   0.0   0.0  \n",
       "you're    0.00  0.00   0.0   0.0   0.0   0.0   0.0   0.0   0.0   0.0  \n",
       "you've    4.96  4.96   0.0   0.0   0.0   0.0   0.0   0.0   0.0   0.0  \n",
       "your      0.00  0.00   0.0   0.0   0.0   0.0   0.0   0.0   0.0   0.0  \n",
       "yourself  0.00  0.00   0.0   0.0   0.0   0.0   0.0   0.0   0.0   0.0  \n",
       "\n",
       "[659 rows x 1197 columns]"
      ]
     },
     "execution_count": 94,
     "metadata": {},
     "output_type": "execute_result"
    }
   ],
   "source": [
    "data[0]['app_freq_f'].T.round(3)"
   ]
  },
  {
   "cell_type": "markdown",
   "metadata": {},
   "source": [
    "### Adding placement of word in video"
   ]
  },
  {
   "cell_type": "code",
   "execution_count": 95,
   "metadata": {},
   "outputs": [],
   "source": [
    "if parse_text_parts:\n",
    "    for i in range(len(data)):\n",
    "        data[i]['text_part'] = text_parts[i]\n",
    "        data[i]['text_part_pos'] = text_parts_num[i]"
   ]
  },
  {
   "cell_type": "markdown",
   "metadata": {},
   "source": [
    "__number__ - part of video"
   ]
  },
  {
   "cell_type": "code",
   "execution_count": 100,
   "metadata": {},
   "outputs": [
    {
     "data": {
      "text/plain": [
       "[0, 0, 0, 0, 0, 0, 0, 0, 0, 0, 0, 0, 0, 1, 1, 1, 1, 1, 1, 1, 1, 1, 1, 1, 2]"
      ]
     },
     "execution_count": 100,
     "metadata": {},
     "output_type": "execute_result"
    }
   ],
   "source": [
    "data[0]['text_part'][:25]"
   ]
  },
  {
   "cell_type": "markdown",
   "metadata": {},
   "source": [
    "# step 3"
   ]
  },
  {
   "cell_type": "raw",
   "metadata": {},
   "source": [
    "best_part, best_part_timings = get_best_parts(data, search_sentence, df_subtitles)\n",
    "build_plots(data)\n",
    "\n",
    "print(f'{best_part = }\\n{best_part_timings = }')"
   ]
  },
  {
   "cell_type": "markdown",
   "metadata": {},
   "source": [
    "## function \"get_best_parts\" step by step"
   ]
  },
  {
   "cell_type": "code",
   "execution_count": 102,
   "metadata": {},
   "outputs": [],
   "source": [
    "import spacy\n",
    "nlp = spacy.load('en_core_web_lg')\n",
    "from sklearn.cluster import KMeans\n",
    "from matplotlib import pyplot as plt\n",
    "plt.style.use('seaborn')"
   ]
  },
  {
   "cell_type": "code",
   "execution_count": 105,
   "metadata": {},
   "outputs": [],
   "source": [
    "# inputs\n",
    "data = data\n",
    "query = search_sentence\n",
    "yt_subtitles = df_subtitles\n",
    "docs_num = len(data)"
   ]
  },
  {
   "cell_type": "markdown",
   "metadata": {},
   "source": [
    "### kmeans labels\n",
    "At the input, the classifier receives a table of n words with the highest score. The rest of the words are rated 0.  \n",
    "Thus we divide the text into several parts according to their subject matter"
   ]
  },
  {
   "cell_type": "code",
   "execution_count": 108,
   "metadata": {},
   "outputs": [
    {
     "name": "stdout",
     "output_type": "stream",
     "text": [
      "\r",
      "kmeans labels. part 1 of 4                                   "
     ]
    }
   ],
   "source": [
    "def _knn_mean(arr, n=20):\n",
    "    half = n // 2\n",
    "    end = len(arr) - 1\n",
    "    mean = []\n",
    "    for n in range(len(arr)):\n",
    "        labels, counts = np.unique(arr[max(0, n-half): min(end, n+half)], return_counts=True)\n",
    "        mean.append(labels[np.argmax(counts)])\n",
    "    return np.array(mean)\n",
    "\n",
    "print('\\rkmeans labels. part 1 of 4', end=' ' * 35)\n",
    "kmeans_labels = []\n",
    "n_clusters = 7\n",
    "kmeans = KMeans(n_clusters=n_clusters, random_state=0)\n",
    "for i in range(docs_num):\n",
    "    # print('len', data[i]['app_freq_f'].shape)\n",
    "    kmeans.fit(data[i]['app_freq_f'])  # .mask(data[0]['app_freq_f'] > 0, 1))\n",
    "    labels = kmeans.labels_\n",
    "    kmeans_labels.append(labels)\n",
    "    data[i]['labels'] = labels"
   ]
  },
  {
   "cell_type": "code",
   "execution_count": 198,
   "metadata": {},
   "outputs": [
    {
     "data": {
      "image/png": "[encoded data removed]",
      "text/plain": [
       "<Figure size 3000x750 with 1 Axes>"
      ]
     },
     "metadata": {},
     "output_type": "display_data"
    }
   ],
   "source": [
    "fig = plt.figure(figsize=(20, 5), dpi=150)\n",
    "plt.scatter(x=range(data[0]['app_freq_f'].shape[0]), y=data[0]['labels'], color='b', label='original')\n",
    "plt.plot(_knn_mean(data[0]['labels'], 40), 'r.', label='after knn')\n",
    "plt.xlabel('Number - word in document', fontsize=16)\n",
    "plt.ylabel('Group by kmeans', fontsize=16)\n",
    "plt.legend(fontsize=14); plt.show()"
   ]
  },
  {
   "cell_type": "markdown",
   "metadata": {},
   "source": [
    "### Grouping words in each group\n",
    "After K-means, we can analyze each group for the most frequent words."
   ]
  },
  {
   "cell_type": "code",
   "execution_count": 111,
   "metadata": {},
   "outputs": [
    {
     "name": "stdout",
     "output_type": "stream",
     "text": [
      "\r",
      "grouping words in each group. part 2 of 4                    "
     ]
    }
   ],
   "source": [
    "print('\\rgrouping words in each group. part 2 of 4', end=' ' * 20)\n",
    "for i in range(docs_num):\n",
    "    for k in range(n_clusters):\n",
    "        groups = []\n",
    "        rows = data[i]['app_freq_f'].loc[kmeans_labels[i] == k].reset_index()\n",
    "        for j in range(rows.shape[0]):\n",
    "            cols = rows.loc[j] >= 1\n",
    "            groups.extend(rows.columns[cols])\n",
    "        data[i][f'clus{k}_words'] = list(set(groups))"
   ]
  },
  {
   "cell_type": "markdown",
   "metadata": {},
   "source": [
    "### First 12 words in group 1"
   ]
  },
  {
   "cell_type": "code",
   "execution_count": 114,
   "metadata": {},
   "outputs": [
    {
     "data": {
      "text/plain": [
       "['strained',\n",
       " 'gonna',\n",
       " 'smile',\n",
       " \"that's\",\n",
       " 'awkward',\n",
       " 'alright',\n",
       " 'amazing',\n",
       " 'authentic',\n",
       " \"today's\",\n",
       " 'comfortable',\n",
       " 'smiles',\n",
       " 'pictures']"
      ]
     },
     "execution_count": 114,
     "metadata": {},
     "output_type": "execute_result"
    }
   ],
   "source": [
    "data[0]['clus0_words'][:12]"
   ]
  },
  {
   "cell_type": "markdown",
   "metadata": {},
   "source": [
    "### nlp similarity\n",
    "Using a neural network, we will compare the query vectors with each group to assess how similar they are.  \n",
    "Estimate using the cosine of the angle vectors"
   ]
  },
  {
   "cell_type": "code",
   "execution_count": 115,
   "metadata": {},
   "outputs": [
    {
     "name": "stdout",
     "output_type": "stream",
     "text": [
      "\r",
      "nlp similarity. part 3 of 4                         "
     ]
    }
   ],
   "source": [
    "print('\\rnlp similarity. part 3 of 4', end=' ' * 25)\n",
    "search_nlp = nlp(query)\n",
    "max_sim = -1\n",
    "for i in range(docs_num):\n",
    "    for k in range(n_clusters):\n",
    "        sim = search_nlp.similarity(nlp(' '.join(data[i][f'clus{k}_words'])))\n",
    "        data[i][f'clus{k}_similarity'] = sim\n",
    "        if sim > max_sim:\n",
    "            max_sim = sim"
   ]
  },
  {
   "cell_type": "markdown",
   "metadata": {},
   "source": [
    "### Similarity of groups with query"
   ]
  },
  {
   "cell_type": "code",
   "execution_count": 134,
   "metadata": {},
   "outputs": [
    {
     "name": "stdout",
     "output_type": "stream",
     "text": [
      "Doc 1 group #0 similarity: 0.820\tDoc 2 group #0 similarity: 0.818\n",
      "Doc 1 group #1 similarity: 0.540\tDoc 2 group #1 similarity: 0.690\n",
      "Doc 1 group #2 similarity: 0.782\tDoc 2 group #2 similarity: 0.662\n",
      "Doc 1 group #3 similarity: 0.583\tDoc 2 group #3 similarity: 0.655\n",
      "Doc 1 group #4 similarity: 0.640\tDoc 2 group #4 similarity: 0.765\n",
      "Doc 1 group #5 similarity: 0.800\tDoc 2 group #5 similarity: 0.615\n",
      "Doc 1 group #6 similarity: 0.805\tDoc 2 group #6 similarity: 0.775\n"
     ]
    }
   ],
   "source": [
    "for g in range(7):\n",
    "    print(f'Doc 1 group #{g} similarity: {data[0][f\"clus{g}_similarity\"]:.3f}\\tDoc 2 group #{g} similarity: {data[1][f\"clus{g}_similarity\"]:.3f}')"
   ]
  },
  {
   "cell_type": "markdown",
   "metadata": {},
   "source": [
    "### from labels and similarity getting text parts\n",
    "Using the similarity score from the neural network, we select groups that are similar to our query.  \n",
    "We select the intervals from the text that we need to cut and then connect into one video."
   ]
  },
  {
   "cell_type": "code",
   "execution_count": 121,
   "metadata": {},
   "outputs": [],
   "source": [
    "# parts of text to timings\n",
    "# dfs[0]\n",
    "def _parts2timings(sub_parts, yt_subtitles):\n",
    "    timings = []\n",
    "    for part in sub_parts:\n",
    "    #     print(part)\n",
    "        start = yt_subtitles.loc[part[0], 'start']\n",
    "        end = yt_subtitles.loc[part[1], 'start'] + yt_subtitles.loc[part[1], 'duration']\n",
    "        timings.append((start, end))\n",
    "    return timings"
   ]
  },
  {
   "cell_type": "code",
   "execution_count": 135,
   "metadata": {},
   "outputs": [],
   "source": [
    "# kmeans.labels_, data[0]['text_part'...]:dict\n",
    "# function do grouping best parts\n",
    "def _clusters2parts(labels, data, threshold=0.6):\n",
    "    clusters = []\n",
    "    # gathering best clusters\n",
    "    for i in range(max(labels)):\n",
    "        if data[f'clus{i}_similarity'] > threshold:\n",
    "            clusters.append(i)\n",
    "\n",
    "    # finding parts in text for each cluster\n",
    "    lable_array = _knn_mean(labels, 30)\n",
    "    best_parts = []\n",
    "\n",
    "    start = False\n",
    "    lable = -1\n",
    "    start_ind = 0\n",
    "\n",
    "    # choising and connectiong text parts acording labels\n",
    "    for i in range(len(lable_array)):\n",
    "        #         print(f'{i} l:{lable_array[i]} st:{start_ind} in:{lable_array[i] in clusters} start:({start})')\n",
    "        if lable_array[i] == lable:\n",
    "            continue\n",
    "        else:\n",
    "            if lable_array[i] in clusters:\n",
    "                lable = lable_array[i]\n",
    "                if not start:\n",
    "                    start_ind = i\n",
    "                    start = True\n",
    "\n",
    "            else:\n",
    "                lable = -1\n",
    "                if start:\n",
    "                    start = False\n",
    "                    best_parts.append((start_ind, i - 1))\n",
    "\n",
    "    if start:\n",
    "        best_parts.append((start_ind, len(lable_array) - 1))\n",
    "\n",
    "    # if text from youtube subtitles, so he divided to parts with timings\n",
    "    parts_in_subtitles = []\n",
    "    if 'text_part' in data.keys():\n",
    "        for part in best_parts:\n",
    "            start = data['text_part'][part[0]]\n",
    "            #             print(f'{part[1] = }')\n",
    "            end = data['text_part'][part[1]]\n",
    "            parts_in_subtitles.append((start, end))\n",
    "\n",
    "    return best_parts, parts_in_subtitles"
   ]
  },
  {
   "cell_type": "code",
   "execution_count": 122,
   "metadata": {},
   "outputs": [
    {
     "name": "stdout",
     "output_type": "stream",
     "text": [
      "\r",
      "from similarity(limit = 0.6) getting best text parts. part 4 of 4"
     ]
    }
   ],
   "source": [
    "limit = 0.6\n",
    "if limit > max_sim:\n",
    "    limit = max_sim * 0.99\n",
    "print(f'\\rfrom similarity({limit = }) getting best text parts. part 4 of 4', end='')\n",
    "best_parts = []\n",
    "sub_parts = []\n",
    "for i in range(docs_num):\n",
    "    best_part, sub_part = _clusters2parts(kmeans_labels[i], data[i], threshold=limit)\n",
    "    best_parts.append(best_part)\n",
    "    sub_parts.append(sub_part)\n",
    "\n",
    "best_part_timings = []\n",
    "if 'text_part' in data[0].keys() and yt_subtitles:\n",
    "    # getting timings\n",
    "    for i in range(docs_num):\n",
    "        best_part_timings.append(_parts2timings(sub_parts[i], yt_subtitles[i]))"
   ]
  },
  {
   "cell_type": "code",
   "execution_count": 125,
   "metadata": {},
   "outputs": [
    {
     "name": "stdout",
     "output_type": "stream",
     "text": [
      "Document 1 best parts by similarity: [(0, 216), (689, 1127)]\n",
      "Document 2 best parts by similarity: [(0, 1122), (1304, 1479)]\n"
     ]
    }
   ],
   "source": [
    "print(f'Document 1 best parts by similarity: {best_parts[0]}\\nDocument 2 best parts by similarity: {best_parts[1]}')"
   ]
  },
  {
   "cell_type": "code",
   "execution_count": 126,
   "metadata": {},
   "outputs": [
    {
     "name": "stdout",
     "output_type": "stream",
     "text": [
      "Document 1 best timing parts: [(0.0, 63.899), (191.12, 310.6)]\n",
      "Document 2 best timing parts: [(0.41, 326.62), (376.45, 430.389)]\n"
     ]
    }
   ],
   "source": [
    "print(f'Document 1 best timing parts: {best_part_timings[0]}\\nDocument 2 best timing parts: {best_part_timings[1]}')"
   ]
  },
  {
   "cell_type": "code",
   "execution_count": 201,
   "metadata": {},
   "outputs": [
    {
     "data": {
      "image/png": "[encoded data removed]",
      "text/plain": [
       "<Figure size 3000x750 with 1 Axes>"
      ]
     },
     "metadata": {},
     "output_type": "display_data"
    }
   ],
   "source": [
    "fig = plt.figure(figsize=(20, 5), dpi=150)\n",
    "x = np.concatenate([np.arange(best_parts[0][0][0], best_parts[0][0][1]+1), np.arange(best_parts[0][1][0], best_parts[0][1][1]+1)])\n",
    "plt.scatter(x=x, y=data[0]['labels'][x], color='b', label='Taked parts')\n",
    "x2 = np.concatenate([np.arange(best_parts[0][0][1]+1, best_parts[0][1][0]), np.arange(best_parts[0][1][1]+1, data[0]['labels'].shape[0])])\n",
    "plt.scatter(x=x2, y=data[0]['labels'][x2], color='m', label='Dropped parts')\n",
    "plt.xlabel('Number - word in document', fontsize=16)\n",
    "plt.ylabel('Group by kmeans', fontsize=16)\n",
    "plt.legend(fontsize=14); plt.title('Document 1. Taken and dropped parts', fontsize=16);plt.show()"
   ]
  },
  {
   "cell_type": "markdown",
   "metadata": {},
   "source": [
    "# step 4\n",
    "make video"
   ]
  },
  {
   "cell_type": "raw",
   "metadata": {},
   "source": [
    "# downloading\n",
    "file_names, file_len = [], []\n",
    "for link in ids:\n",
    "    names, lens = download_mp4(link)\n",
    "    file_names.append(names)\n",
    "    file_len.append(lens)\n",
    "print(f'{file_names = }')"
   ]
  },
  {
   "cell_type": "markdown",
   "metadata": {},
   "source": [
    "## Unfortunately, this part does not work because of the library for downloading videos from YouTube.\n",
    ">__HTTPError: HTTP Error 410: Gone__"
   ]
  },
  {
   "cell_type": "markdown",
   "metadata": {},
   "source": [
    "## building video file"
   ]
  },
  {
   "cell_type": "code",
   "execution_count": null,
   "metadata": {},
   "outputs": [],
   "source": [
    "make_clip(file_names, file_len)"
   ]
  }
 ],
 "metadata": {
  "kernelspec": {
   "display_name": "Python 3",
   "language": "python",
   "name": "python3"
  },
  "language_info": {
   "codemirror_mode": {
    "name": "ipython",
    "version": 3
   },
   "file_extension": ".py",
   "mimetype": "text/x-python",
   "name": "python",
   "nbconvert_exporter": "python",
   "pygments_lexer": "ipython3",
   "version": "3.8.5"
  }
 },
 "nbformat": 4,
 "nbformat_minor": 4
}
